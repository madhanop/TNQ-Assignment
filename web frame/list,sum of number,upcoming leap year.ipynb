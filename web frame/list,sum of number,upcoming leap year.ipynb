{
 "cells": [
  {
   "cell_type": "markdown",
   "id": "ab3aa027",
   "metadata": {},
   "source": [
    "# LIST OF NUMBER DIGITS"
   ]
  },
  {
   "cell_type": "code",
   "execution_count": 1,
   "id": "84c876ae",
   "metadata": {},
   "outputs": [
    {
     "name": "stdout",
     "output_type": "stream",
     "text": [
      "List of number: \n",
      " [2, 7, 8]\n"
     ]
    }
   ],
   "source": [
    "def list_digit(num):\n",
    "    res = [int(x) for x in str(num)]\n",
    "    return (res)\n",
    "num = 278\n",
    "print(\"List of number: \\n\",list_digit(num))"
   ]
  },
  {
   "cell_type": "markdown",
   "id": "73eda76e",
   "metadata": {},
   "source": [
    "# SUM OF THE NUMBERS"
   ]
  },
  {
   "cell_type": "code",
   "execution_count": 1,
   "id": "e8e2d8ad",
   "metadata": {},
   "outputs": [
    {
     "name": "stdout",
     "output_type": "stream",
     "text": [
      "Enter the count of the number:4\n",
      "5\n",
      "6\n",
      "7\n",
      "8\n",
      "Sum of the  above number is 26\n"
     ]
    }
   ],
   "source": [
    "n=int(input(\"Enter the count of the number:\"))\n",
    "c=0\n",
    "for i in range(0,n):\n",
    "    ele=int(input())\n",
    "    c+=ele\n",
    "print(\"Sum of the  above number is\",c)"
   ]
  },
  {
   "cell_type": "markdown",
   "id": "1d81244c",
   "metadata": {},
   "source": [
    "# UPCOMING LEAP YEAR"
   ]
  },
  {
   "cell_type": "code",
   "execution_count": 2,
   "id": "287b24b6",
   "metadata": {},
   "outputs": [
    {
     "name": "stdout",
     "output_type": "stream",
     "text": [
      "Enter the year:2024\n",
      "UPCOMING LEAP YEARS\n",
      "1  2028\n",
      "2  2032\n",
      "3  2036\n",
      "4  2040\n",
      "5  2044\n",
      "6  2048\n",
      "7  2052\n",
      "8  2056\n",
      "9  2060\n",
      "10  2064\n",
      "11  2068\n",
      "12  2072\n",
      "13  2076\n",
      "14  2080\n",
      "15  2084\n",
      "16  2088\n",
      "17  2092\n",
      "18  2096\n",
      "19  2104\n",
      "20  2108\n"
     ]
    }
   ],
   "source": [
    "year=int(input(\"Enter the year:\"))\n",
    "print(\"UPCOMING LEAP YEARS\")\n",
    "n=20\n",
    "c=0\n",
    "while(c!=n):\n",
    "    year+=1\n",
    "    if(year%4==0 and year%100!=0 or year%400==0):\n",
    "        c+=1\n",
    "        print(c,'',year)"
   ]
  },
  {
   "cell_type": "code",
   "execution_count": null,
   "id": "0558b492",
   "metadata": {},
   "outputs": [],
   "source": []
  }
 ],
 "metadata": {
  "kernelspec": {
   "display_name": "Python 3 (ipykernel)",
   "language": "python",
   "name": "python3"
  },
  "language_info": {
   "codemirror_mode": {
    "name": "ipython",
    "version": 3
   },
   "file_extension": ".py",
   "mimetype": "text/x-python",
   "name": "python",
   "nbconvert_exporter": "python",
   "pygments_lexer": "ipython3",
   "version": "3.9.12"
  }
 },
 "nbformat": 4,
 "nbformat_minor": 5
}
