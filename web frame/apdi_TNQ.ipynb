{
 "cells": [
  {
   "cell_type": "code",
   "execution_count": 1,
   "id": "dc506bc8",
   "metadata": {},
   "outputs": [
    {
     "name": "stdout",
     "output_type": "stream",
     "text": [
      "Collecting django\n",
      "  Downloading Django-4.1.1-py3-none-any.whl (8.1 MB)\n",
      "     ---------------------------------------- 8.1/8.1 MB 1.7 MB/s eta 0:00:00\n",
      "Collecting tzdata\n",
      "  Downloading tzdata-2022.4-py2.py3-none-any.whl (336 kB)\n",
      "     -------------------------------------- 336.7/336.7 kB 2.1 MB/s eta 0:00:00\n",
      "Collecting sqlparse>=0.2.2\n",
      "  Downloading sqlparse-0.4.3-py3-none-any.whl (42 kB)\n",
      "     ---------------------------------------- 42.8/42.8 kB 2.0 MB/s eta 0:00:00\n",
      "Collecting asgiref<4,>=3.5.2\n",
      "  Downloading asgiref-3.5.2-py3-none-any.whl (22 kB)\n",
      "Installing collected packages: tzdata, sqlparse, asgiref, django\n",
      "Successfully installed asgiref-3.5.2 django-4.1.1 sqlparse-0.4.3 tzdata-2022.4\n",
      "Note: you may need to restart the kernel to use updated packages.\n"
     ]
    }
   ],
   "source": [
    "pip install django"
   ]
  },
  {
   "cell_type": "code",
   "execution_count": 3,
   "id": "02579986",
   "metadata": {},
   "outputs": [],
   "source": [
    "from django.shortcuts import render\n",
    "from django.http import HttpResponse\n",
    "def index(request):\n",
    "    return render(request,'form.html')\n",
    "def add(request):\n",
    "    A=int(request.GET[\"A\"])\n",
    "    B=int(request.GET[\"B\"])\n",
    "    res=A+B\n",
    "    res_sub=A-B\n",
    "    res_mul=A*B\n",
    "    res_div=A/B\n",
    "    return render(request,'result.html',{\"Result:res\"},{\"Result,:res_sub\"},{\"Result,:res_mul\"},{\"Result,:res_div\"})\n"
   ]
  },
  {
   "cell_type": "markdown",
   "id": "bb9a26b1",
   "metadata": {},
   "source": [
    "# URL"
   ]
  },
  {
   "cell_type": "code",
   "execution_count": null,
   "id": "68c9e20a",
   "metadata": {},
   "outputs": [],
   "source": [
    "from django.urls import path\n",
    "from . import views\n",
    "urlpatterns=[\n",
    "    path('',views.index, name=\"index\"),\n",
    "    path('add',views.add,name=\"index\"),\n",
    "    ]"
   ]
  }
 ],
 "metadata": {
  "kernelspec": {
   "display_name": "Python 3 (ipykernel)",
   "language": "python",
   "name": "python3"
  },
  "language_info": {
   "codemirror_mode": {
    "name": "ipython",
    "version": 3
   },
   "file_extension": ".py",
   "mimetype": "text/x-python",
   "name": "python",
   "nbconvert_exporter": "python",
   "pygments_lexer": "ipython3",
   "version": "3.9.12"
  }
 },
 "nbformat": 4,
 "nbformat_minor": 5
}
